{
 "cells": [
  {
   "cell_type": "markdown",
   "metadata": {},
   "source": [
    "# Random Python Data Science Practice #5"
   ]
  },
  {
   "cell_type": "markdown",
   "metadata": {},
   "source": [
    "## Variable Boolean"
   ]
  },
  {
   "cell_type": "code",
   "execution_count": 11,
   "metadata": {},
   "outputs": [
    {
     "name": "stdout",
     "output_type": "stream",
     "text": [
      "Please input a number (1-9): 6\n",
      "Are a multiply c then plus b same with a multiply b then plus c =  True\n",
      "Are a multiply c then minus b same with a multiply b then minus c =  False\n"
     ]
    }
   ],
   "source": [
    "# Variable Boolean for True and False data\n",
    "a = 1 # --> integer\n",
    "b = 3 # --> integer\n",
    "c = int(input(\"Please input a number (1-9): \")) # --> Input variable with integer\n",
    "print('Are a multiply c then plus b same with a multiply b then plus c = ', a * c + b == a * b + c) # --> Result True (boolean)\n",
    "print('Are a multiply c then minus b same with a multiply b then minus c = ', a * c - b == a * b - c) # --> Result False (boolean)"
   ]
  },
  {
   "cell_type": "code",
   "execution_count": null,
   "metadata": {},
   "outputs": [],
   "source": []
  }
 ],
 "metadata": {
  "kernelspec": {
   "display_name": "Python 3",
   "language": "python",
   "name": "python3"
  },
  "language_info": {
   "codemirror_mode": {
    "name": "ipython",
    "version": 3
   },
   "file_extension": ".py",
   "mimetype": "text/x-python",
   "name": "python",
   "nbconvert_exporter": "python",
   "pygments_lexer": "ipython3",
   "version": "3.8.5"
  }
 },
 "nbformat": 4,
 "nbformat_minor": 4
}
